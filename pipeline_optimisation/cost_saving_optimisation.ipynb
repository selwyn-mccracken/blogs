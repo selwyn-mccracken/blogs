{
 "cells": [
  {
   "cell_type": "markdown",
   "metadata": {},
   "source": [
    "# Cost saving optimisation: A worked example for a water distribution network \n",
    "\n",
    "Cost minimisation is **always** important to the funders and managers of infrastructure assets. However, the number of option permutations that need to be considered when making design, planning or operational decisions can quickly become enormous, making an optimal combination very hard to identify. Population based or biologially inspired algorithms are one class of optimisation techniques that can quickly converge on globally optimal (or close to optimal) solutions, even with complex, non-differentiable cost functions with numerous options or input parameters. This makes them tremendously useful, powerful and scalable techniques for attacking many cost saving exercises.\n",
    "\n",
    "The example below demonstrates how to minimise the build cost of a water distribution network by selecting the cheapest set of pipe diameters that:\n",
    "\n",
    "1. creates a hydraulically sound network (as validated by an [epanet model](http://www.epa.gov/water-research/epanet))\n",
    "2. satisfy the pressure requirements of each demand node. \n",
    "\n",
    "The code and data can be [downloaded here](https://gist.github.com/selwyn-mccracken/0fabaa715d7ee24772af/archive/dea2ad9257f51bee21505df91e1554848f2c03a5.zip) and I encourage others to recycle and experiment with it. The full analysis uses less than 100 lines of python code, including comments, which hopefully shows how easy it is to deploy these techniques in practice.  \n",
    "\n",
    "*NB: This report has been created in a [jupyter notebook](http://jupyter.org/) which allows executable code to be embedded within the document text. That is, the document is a self-contained report that can be shared and run on your local machine which facilitates fully reproducible analysis, renders nicely on sites like github, and can be easily converted into a range of report formats inclusing interactive slides.*"
   ]
  },
  {
   "cell_type": "markdown",
   "metadata": {
    "collapsed": true
   },
   "source": [
    "## The Two Loop water network \n",
    "\n",
    "To keep things simple, we'll focus on the small Two Loop Network (TLN) benchmark in [epanet format](http://www.epa.gov/water-research/epanet) from [here]( http://emps.exeter.ac.uk/engineering/research/cws/resources/benchmarks/design-resiliance-pareto-fronts/small-problems/\n",
    "), which also provides the following description, table and architecture diagram:\n",
    "\n",
    "> *`\"Two loop network (TLN) consists of one reservoir, six demand nodes and eight pipes organised in two loops. The reservoir has a constant head fixed at 210 m. As a hypothetical network, all pipes have the same length (1000 m) and the Hazen-Williams coefficient of 130. The pressure is set to be at least 30.0 m at all demand nodes. Table TLN.1 shows commercially available diameters and the corresponding unit costs (1 in.=0.0254 m). Figure TLN.1 depicts the layout of TLN.\"`*\n",
    "\n",
    "With these available pipe dimensions, the minimum pipeline cost for the total network is [known to be $419,000 (Dong et al. 2012)](http://link.springer.com/article/10.1631%2Fjzus.A1200072).\n",
    "\n",
    "##### Table TLN.1 Diameter options and associated unit costs of TLN\n",
    "![Pipe diameter cost table](http://emps.exeter.ac.uk/media/universityofexeter/emps/research/cws/downloads/pareto/TLN_T1.png)\n",
    "\n",
    "##### Figure TLN.1 Architecture of TLN\n",
    "![Network architecture](http://emps.exeter.ac.uk/media/universityofexeter/emps/research/cws/downloads/pareto/TLN.png)\n",
    "\n",
    "\n",
    "Even with this small network, a brute force approach of checking every possibility to find the best answer is not desirable, as the 14 avaiable pipe types and 8 pipe sections that need to be sized means there are 14^8 (i.e. 1,475,789,056) different combinations that would need tested!!! Real networks are obviously far larger with many more pipes, constraints and configuration options which quickly make them impossible to evaluate with brute force techniques. "
   ]
  },
  {
   "cell_type": "markdown",
   "metadata": {},
   "source": [
    "## Differential Evolution\n",
    "\n",
    "Many global optimisation techniques have been [biologically-inspired](https://en.wikipedia.org/wiki/Bio-inspired_computing) including: \n",
    "\n",
    "- Genetic algorithms\n",
    "- Differential evolution\n",
    "- Particle swarm optimisation\n",
    "- Ant colony optimisation\n",
    "- Neural networks\n",
    "- Artificial immune systems\n",
    "- Cellular automata\n",
    "\n",
    "Most of these techniques operate similarly to one another by progressing towards a global minimum (or maximum) through a stochastic process that mimics natural evolution.  That is, an initial set of candidate inputs/options are successively randomised/bred/perturbed/blended/mutated, and if they produce a solution that is better than the existing one, then most of the new population 'survives' into the next round of breeding.  This process is repeated until the algorithm 'converges' on a solution,  meaning that no better result could be found within a defined period time or some other stopping criterion.     \n",
    "\n",
    "The Differential Evolution (DE) algorithm of [Storn and Price (1997)](http://www1.icsi.berkeley.edu/~storn/code.html) operates in this manner, and has been a popular technique for cost optimisation tasks for water distribution networks (see [Vasan and Simonovic 2010](http://ascelibrary.org/doi/10.1061/%28ASCE%290733-9496%282010%29136%3A2%28279%29), [Dong et al. 2012](http://link.springer.com/article/10.1631%2Fjzus.A1200072), [Mansouri et al. 2015](http://dx.doi.org/10.4236/jwarp.2015.79059). There are several free DE implementations available, including for the [R](https://cran.r-project.org/web/packages/DEoptim/index.html) and [python](http://docs.scipy.org/doc/scipy-0.16.0/reference/generated/scipy.optimize.differential_evolution.html) programming languages which I make heavy use of in my day to day work. The example below is written in python. \n"
   ]
  },
  {
   "cell_type": "markdown",
   "metadata": {
    "collapsed": true
   },
   "source": [
    "## Outline of python code \n",
    "\n",
    "There are four steps in the optimisation:\n",
    "1. Load the initial network layout and configuration from the input file in epanet format\n",
    "2. Write a total pipe cost function that the DE algorithm will evaluate at each iteration of its minimisation search. To drive the algorithm away from poor solutions, the total cost returned for an iteration is heavily penalised if the network is found to be:\n",
    "    - hydraulically infeasible (according to epanet) \n",
    "    - does not meet the pressure demands across all nodes \n",
    "3. Run the Differential Evolution algorithm\n",
    "4. Present and check the solution\n"
   ]
  },
  {
   "cell_type": "markdown",
   "metadata": {},
   "source": [
    "### 1. Initial configuration\n",
    "\n",
    "The [epanettools library](https://pypi.python.org/pypi/EPANETTOOLS) is used to load, manipulate and run epanet models in RAM, which allows much faster testing of model configurations than the alternative of writing models to disk and running epanent from the shell/command line. \n",
    "\n",
    "If you have python installed, the library can be added from the command line using: \n",
    ">`pip install epanettools` \n",
    "\n",
    "Please [contact me](mailto:selwyn.b.mccracken@mwhglobal.com?subject=Optimisation help) if you need help installing either python or epanettools.\n"
   ]
  },
  {
   "cell_type": "code",
   "execution_count": 1,
   "metadata": {
    "collapsed": false
   },
   "outputs": [],
   "source": [
    "import warnings\n",
    "warnings.filterwarnings('ignore') #suppress deprecation warnings\n",
    "from epanettools import epanet2 as et\n",
    "from scipy.optimize import differential_evolution\n",
    "from math import pi\n",
    "import pandas as pd\n",
    " #use seaborn to plot results and set plot configs\n",
    "import seaborn as sns\n",
    "import matplotlib.pyplot as plt\n",
    "\n",
    "#load the Two Loop Network\n",
    "tln = et.ENopen('TLN.inp','tmp.rpt','') \n",
    "\n",
    "#retrieve the cost of each pipe type\n",
    "pipe_costs = pd.read_csv('two_loop_pipe_costs.csv')\n",
    "\n",
    "#get the number of pipes and nodes from the \n",
    "ret,npipes=et.ENgetcount(et.EN_LINKCOUNT) \n",
    "ret,nnodes=et.ENgetcount(et.EN_NODECOUNT) \n",
    "\n",
    "#specify the pressure constraint for each demand node\n",
    "REQUIRED_PRESSURE = 30 "
   ]
  },
  {
   "cell_type": "markdown",
   "metadata": {},
   "source": [
    "### 2. Total pipe cost function \n",
    "\n",
    "Here we define the total pipeline cost that gets calculated for each iteration of the DE algorithm. As discussed above, poor solutions (i.e. hydraulically infeasible and deficient pressure) are heavily penalised. \n",
    "\n",
    "The input into the function (i.e. `x`) is an array of 8 elements that contains the proposed pipe **type** for each of the 8 pipe sections in the TLN model, with values ranging from type 0 through to 13 reflecting the 14 available size options (counting in python always starts from zero). Pipe type 0 is the smallest with a 25.4mm(1 inch) diameter up to pipe type 13 which has a 609.6mm(24in) diameter.   \n",
    "\n",
    "Note that `x` does **not** contain the raw diameters of the pipes, as this would waste lots of search cycles examining the empty spaces between the available pipe dimension which would then need to be penalised in the cost function. \n"
   ]
  },
  {
   "cell_type": "code",
   "execution_count": 2,
   "metadata": {
    "collapsed": true
   },
   "outputs": [],
   "source": [
    "def total_pipeline_cost(x):\n",
    "    \"\"\"\n",
    "    x is an array of proposed pipe type indexes in the pipe_costs table.\n",
    "    However because the DE optimization works with floating point values, \n",
    "    we have to round to indices to integers to retrive the costs - i.e. can't have a row 1.5   \n",
    "    \"\"\"\n",
    "    x_rnd = [round(xi,0) for xi in x] #round type index to integer\n",
    "    diams = list(pipe_costs.loc[x_rnd,'diameter_mm']) #fetch the actual diameters of these pipe type stored in the costs table \n",
    "    cost = sum(pipe_costs.loc[x_rnd,'cost_per_m'] * 1000) #calculate the total unpenalised cost\n",
    "    \n",
    "    #update the network model with the proposed pipe diameters  \n",
    "    for ix in range(npipes):\n",
    "        ret = et.ENsetlinkvalue(ix+1, et.EN_DIAMETER,diams[ix])\n",
    "    \n",
    "    ##check the network is hydraulically valid according to epanet\n",
    "    solution_code  = et.ENsolveH()\n",
    "    \n",
    "    #retrieve the demand node pressures where demand is > 0 - i.e. ignore the reservoir node\n",
    "    demand_node_pressures = [et.ENgetnodevalue(i+1, et.EN_PRESSURE )[1] \n",
    "                             for i in range(nnodes) \n",
    "                                 if et.ENgetnodevalue(i+1, et.EN_DEMAND )[1] > 0 \n",
    "                            ]\n",
    "    #check the pressure status of each demand node\n",
    "    above_pressure = [p > REQUIRED_PRESSURE for p in demand_node_pressures]\n",
    "    try:\n",
    "        pressure_deficit = above_pressure.index(False) > -1\n",
    "    except ValueError:\n",
    "        pressure_deficit = False #presure is good at all nodes\n",
    "    \n",
    "    if solution_code == 0: #i.e. hydraulically feasible\n",
    "        if pressure_deficit == False:\n",
    "            return cost #no need for a penalty to be added, as hydraulically feasible and no presseure deficits\n",
    "        else:\n",
    "            return cost + 4000000 #there is at least one pressure deficit, so increase cost by $4m   \n",
    "    else:\n",
    "        #not hydraulically feasible so apply a large penalty $40m        \n",
    "        return cost + 40000000"
   ]
  },
  {
   "cell_type": "markdown",
   "metadata": {},
   "source": [
    "## 3. Running the DE optimisation algorithm\n",
    "Here is where the magic happens. The `differential_evolution()` function is called with the `total_pipeline_cost()` function defined above, along with some tuning parameters that don't need to be explained at the moment. So we can plot the progress of the algorithm once it is finished, the `trackcost()` callback is used to store the intermediate solutions from each iteration.    "
   ]
  },
  {
   "cell_type": "code",
   "execution_count": 3,
   "metadata": {
    "collapsed": false
   },
   "outputs": [],
   "source": [
    "#specify the range of possible values for each pipe section\n",
    "#in this case there are 14 different pipe types, so the range is set from 0 to 13 because because python indices start from zero\n",
    "bounds = [[0,13] for b in range(npipes)]\n",
    "\n",
    "#define callback function and array to track the intermediate solutions\n",
    "iteration_cost_value = []\n",
    "\n",
    "def trackcost(xk,convergence):\n",
    "    x_rnd = [round(xi,0) for xi in xk]\n",
    "    diams = list(pipe_costs.loc[x_rnd,'diameter_mm'])\n",
    "    total_cost = sum(pipe_costs.loc[x_rnd,'cost_per_m'] * 1000)\n",
    "    iteration_cost_value.append(total_cost)\n",
    "    \n",
    "# Call the DE algorithm with our cost function \n",
    "mincost_res = differential_evolution(\n",
    "    total_pipeline_cost, #use our cost function defined above\n",
    "    seed=1234, #set the random number generator at a fixe point for reproducibility\n",
    "    #specify callback to track solution progress \n",
    "    callback = trackcost,\n",
    "    strategy = 'best1bin', \n",
    "    popsize = 50,\n",
    "    mutation = (.4,.8),\n",
    "    recombination = .2,\n",
    "    disp=False,\n",
    "    bounds=bounds,\n",
    "    maxiter=100 \n",
    ")\n",
    "    \n"
   ]
  },
  {
   "cell_type": "markdown",
   "metadata": {},
   "source": [
    "## 4. Solution and validity checks \n",
    "\n",
    "The DE function above takes 91 iterations and less than a minute to find the best known solution of $419,000 (see the chart below) . This is ridiculously better than the ~1.5 billion iterations that a brute force approach would require. "
   ]
  },
  {
   "cell_type": "code",
   "execution_count": 4,
   "metadata": {
    "collapsed": false
   },
   "outputs": [
    {
     "data": {
      "text/plain": [
       "<matplotlib.text.Annotation at 0xb3fac18>"
      ]
     },
     "execution_count": 4,
     "metadata": {},
     "output_type": "execute_result"
    },
    {
     "data": {
      "image/png": "[encoded data removed]",
      "text/plain": [
       "<matplotlib.figure.Figure at 0xb48fb70>"
      ]
     },
     "metadata": {},
     "output_type": "display_data"
    }
   ],
   "source": [
    "#plot solution progress by iteration\n",
    "%matplotlib inline\n",
    "plt.figure(figsize=(10, 6))\n",
    "sns.tsplot(data=iteration_cost_value,)\n",
    "sns.axlabel('Iteration number of DE optimisation','Total pipeline cost ($)')\n",
    "plt.annotate('The best known solution is\\nreached after 91 iterations', xy=(91, 419000), xytext=(50, 480000),\n",
    "             arrowprops=dict(facecolor='indianred',  headwidth =8,width=2))\n"
   ]
  },
  {
   "cell_type": "markdown",
   "metadata": {},
   "source": [
    "#### Doublecheck solution is hydraulically correct and retrieve the final set of pipe diameters."
   ]
  },
  {
   "cell_type": "code",
   "execution_count": 5,
   "metadata": {
    "collapsed": false
   },
   "outputs": [
    {
     "data": {
      "text/plain": [
       "True"
      ]
     },
     "execution_count": 5,
     "metadata": {},
     "output_type": "execute_result"
    }
   ],
   "source": [
    "#confirm currrent configuration of the network is hydraulically correct\n",
    "et.ENsolveH() == 0 # a return code of zero indicates the network is feasible \n"
   ]
  },
  {
   "cell_type": "code",
   "execution_count": 6,
   "metadata": {
    "collapsed": false
   },
   "outputs": [
    {
     "data": {
      "text/html": [
       "<div>\n",
       "<table border=\"1\" class=\"dataframe\">\n",
       "  <thead>\n",
       "    <tr style=\"text-align: right;\">\n",
       "      <th>pipe type</th>\n",
       "      <th>diameter_mm</th>\n",
       "      <th>cost_per_m</th>\n",
       "    </tr>\n",
       "  </thead>\n",
       "  <tbody>\n",
       "    <tr>\n",
       "      <th>10.0</th>\n",
       "      <td>457.2</td>\n",
       "      <td>130</td>\n",
       "    </tr>\n",
       "    <tr>\n",
       "      <th>6.0</th>\n",
       "      <td>254.0</td>\n",
       "      <td>32</td>\n",
       "    </tr>\n",
       "    <tr>\n",
       "      <th>9.0</th>\n",
       "      <td>406.4</td>\n",
       "      <td>90</td>\n",
       "    </tr>\n",
       "    <tr>\n",
       "      <th>3.0</th>\n",
       "      <td>101.6</td>\n",
       "      <td>11</td>\n",
       "    </tr>\n",
       "    <tr>\n",
       "      <th>9.0</th>\n",
       "      <td>406.4</td>\n",
       "      <td>90</td>\n",
       "    </tr>\n",
       "    <tr>\n",
       "      <th>6.0</th>\n",
       "      <td>254.0</td>\n",
       "      <td>32</td>\n",
       "    </tr>\n",
       "    <tr>\n",
       "      <th>6.0</th>\n",
       "      <td>254.0</td>\n",
       "      <td>32</td>\n",
       "    </tr>\n",
       "    <tr>\n",
       "      <th>0.0</th>\n",
       "      <td>25.4</td>\n",
       "      <td>2</td>\n",
       "    </tr>\n",
       "  </tbody>\n",
       "</table>\n",
       "</div>"
      ],
      "text/plain": [
       "pipe type  diameter_mm  cost_per_m\n",
       "10.0             457.2         130\n",
       "6.0              254.0          32\n",
       "9.0              406.4          90\n",
       "3.0              101.6          11\n",
       "9.0              406.4          90\n",
       "6.0              254.0          32\n",
       "6.0              254.0          32\n",
       "0.0               25.4           2"
      ]
     },
     "execution_count": 6,
     "metadata": {},
     "output_type": "execute_result"
    }
   ],
   "source": [
    "#show the table of pipe dimensions and associated costs\n",
    "final_diameters = pipe_costs.loc[[round(x) for x in mincost_res.x],['diameter_mm','cost_per_m']]\n",
    "final_diameters.columns.name = 'pipe type'\n",
    "final_diameters"
   ]
  },
  {
   "cell_type": "code",
   "execution_count": 7,
   "metadata": {
    "collapsed": false
   },
   "outputs": [
    {
     "data": {
      "text/plain": [
       "419000"
      ]
     },
     "execution_count": 7,
     "metadata": {},
     "output_type": "execute_result"
    }
   ],
   "source": [
    "#doublecheck the final pipeline cost = 419,000\n",
    "sum(final_diameters['cost_per_m']) * 1000"
   ]
  },
  {
   "cell_type": "markdown",
   "metadata": {},
   "source": [
    "## Summary\n",
    "\n",
    "Differential evolution is a powerful and relatively straightforward technique for minimising costs or any other numeric outcome of interest. The example provided only manipulates pipe diameters, but could readily be expanded to any water network configuration that can be defined in an epanet model, such as the location and sizing of pumps and pressure reducing valves, new pipeline routes or connections. If desired, OPEX or TOTEX could be the value minimised by incorporating power and maintenance costs into the model.  \n",
    "\n",
    "The usefulness of DE optimisation clearly extends beyond water networks, and it has been used across a wide array of applications including [large scale stock portfolio optimisation](https://cran.r-project.org/web/packages/DEoptim/vignettes/DEoptimPortfolioOptimization.pdf), [facility layouts](http://dx.doi.org/10.1109/ROBIO.2013.6739725) and [electromagnetic antenna design](https://dx.doi.org/10.1109%2FMAP.2011.5773566).\n",
    "\n",
    "For all you BIM junkies out there, the same approach could conceivably be used to improve building designs so that energy/TOTEX costs are minimised by driving [EnergyPlus models](https://energyplus.net/) with the [eppy python library](https://github.com/santoshphilip/eppy), a topic that I might address in a later post. \n",
    "\n",
    "If you'd like to try DE optimisation or any similar technique on your project, [please get in touch with me](mailto:selwyn.b.mccracken@mwhglobal.com?subject=Optimisation help).\n"
   ]
  },
  {
   "cell_type": "markdown",
   "metadata": {},
   "source": [
    "## References\n",
    "Ardia, D., Boudt, K., Carl, P., Mullen, K.M., Peterson, B.G., 2011. Differential Evolution with DEoptim: An Application to Non-Convex Portfolio Optimization. The R Journal 3, 27–34.\n",
    "\n",
    "Dong, X., Liu, S., Tao, T., Li, S., Xin, K., 2012. A comparative study of differential evolution and genetic algorithms for optimizing the design of water distribution systems. Journal of Zhejiang University SCIENCE A 13, 674–686. doi:10.1631/jzus.A1200072\n",
    "\n",
    "Mansouri, R., Torabi, H., Hoseini, M., Morshedzadeh, H., 2015. Optimization of the Water Distribution Networks with Differential Evolution (DE) and Mixed Integer Linear Programming (MILP). Journal of Water Resource and Protection 07, 715–729. doi:10.4236/jwarp.2015.79059\n",
    "\n",
    "Rocca, P., Oliveri, G., Massa, A., 2011. Differential Evolution as Applied to Electromagnetics. IEEE Antennas and Propagation Magazine 53, 38–49. doi:10.1109/MAP.2011.5773566\n",
    "\n",
    "Storn, R., Price, K., n.d. Differential Evolution – A Simple and Efficient Heuristic for global Optimization over Continuous Spaces. Journal of Global Optimization 11, 341–359. doi:10.1023/A:1008202821328\n",
    "\n",
    "Tao, J., Wang, P., Qiao, H., Tang, Z., 2013. Facility layouts based on differential evolution algorithm. IEEE, pp. 1778–1783. doi:10.1109/ROBIO.2013.6739725\n",
    "\n",
    "Vasan, A., Simonovic, S.P., 2010. Optimization of Water Distribution Network Design Using Differential Evolution. Journal of Water Resources Planning and Management 136, 279–287. doi:10.1061/(ASCE)0733-9496(2010)136:2(279)\n"
   ]
  },
  {
   "cell_type": "code",
   "execution_count": null,
   "metadata": {
    "collapsed": true
   },
   "outputs": [],
   "source": []
  }
 ],
 "metadata": {
  "kernelspec": {
   "display_name": "Python 2",
   "language": "python",
   "name": "python2"
  },
  "language_info": {
   "codemirror_mode": {
    "name": "ipython",
    "version": 2
   },
   "file_extension": ".py",
   "mimetype": "text/x-python",
   "name": "python",
   "nbconvert_exporter": "python",
   "pygments_lexer": "ipython2",
   "version": "2.7.11"
  }
 },
 "nbformat": 4,
 "nbformat_minor": 0
}
